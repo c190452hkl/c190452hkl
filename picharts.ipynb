{
  "cells": [
    {
      "metadata": {
        "trusted": true
      },
      "cell_type": "code",
      "source": "import plotly.graph_objects as go\nlabels = ['japan','china','indo','myanmar','vietnum']\nvalues = [2, 7, 3, 6, 3]\ncolors = ['gold', 'yellowgreen', 'lightcoral', 'lightskyblue','blue']\n\nfig = go.Figure(data=[go.Pie(labels=labels, values=values,colors=colors)])\nfig.show()\n",
      "execution_count": null,
      "outputs": []
    },
    {
      "metadata": {
        "trusted": true
      },
      "cell_type": "code",
      "source": "",
      "execution_count": null,
      "outputs": []
    },
    {
      "metadata": {
        "trusted": true
      },
      "cell_type": "code",
      "source": "",
      "execution_count": null,
      "outputs": []
    }
  ],
  "metadata": {
    "kernelspec": {
      "name": "python36",
      "display_name": "Python 3.6",
      "language": "python"
    }
  },
  "nbformat": 4,
  "nbformat_minor": 2
}